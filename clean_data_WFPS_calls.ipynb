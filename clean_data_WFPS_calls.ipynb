{
 "cells": [
  {
   "cell_type": "code",
   "execution_count": 1,
   "id": "650b22e8",
   "metadata": {},
   "outputs": [],
   "source": [
    "import csv\n",
    "from datetime import datetime"
   ]
  },
  {
   "cell_type": "code",
   "execution_count": 2,
   "id": "4805243a",
   "metadata": {},
   "outputs": [],
   "source": [
    "# date format needed to be changed so it can be uploaded into PostgreSQL\n",
    "\n",
    "def convert_date_format(input_date):\n",
    "    input_format = \"%m/%d/%Y %I:%M:%S %p\"\n",
    "    output_format = \"%Y-%m-%d %H:%M:%S\"\n",
    "    \n",
    "    try:\n",
    "        date_obj = datetime.strptime(input_date, input_format)\n",
    "        return date_obj.strftime(output_format)\n",
    "    except ValueError:\n",
    "        return input_date"
   ]
  },
  {
   "cell_type": "code",
   "execution_count": 9,
   "id": "a40d351c",
   "metadata": {},
   "outputs": [],
   "source": [
    "input_file = 'WFPS_Call_Logs_v1.csv'\n",
    "output_file = 'WFPS_Call_Logs_v2.csv'"
   ]
  },
  {
   "cell_type": "code",
   "execution_count": 10,
   "id": "41674ba3",
   "metadata": {},
   "outputs": [],
   "source": [
    "with open(input_file, 'r', newline='') as input_csv, open(output_file, 'w', newline='') as output_csv:\n",
    "    reader = csv.reader(input_csv)\n",
    "    writer = csv.writer(output_csv)\n",
    "    \n",
    "    header = next(reader)\n",
    "    writer.writerow(header)\n",
    "    \n",
    "    for row in reader:\n",
    "        # avoid any null values in tuples\n",
    "        if '' in row:\n",
    "            continue\n",
    "        row[2] = convert_date_format(row[2])\n",
    "        row[3] = convert_date_format(row[3])\n",
    "        writer.writerow(row)"
   ]
  }
 ],
 "metadata": {
  "kernelspec": {
   "display_name": "Python 3 (ipykernel)",
   "language": "python",
   "name": "python3"
  },
  "language_info": {
   "codemirror_mode": {
    "name": "ipython",
    "version": 3
   },
   "file_extension": ".py",
   "mimetype": "text/x-python",
   "name": "python",
   "nbconvert_exporter": "python",
   "pygments_lexer": "ipython3",
   "version": "3.11.3"
  }
 },
 "nbformat": 4,
 "nbformat_minor": 5
}
